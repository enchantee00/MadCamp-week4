{
 "cells": [
  {
   "cell_type": "code",
   "execution_count": 1,
   "metadata": {},
   "outputs": [
    {
     "name": "stdout",
     "output_type": "stream",
     "text": [
      "CSV 파일이 'summarize.csv'로 저장되었습니다.\n"
     ]
    }
   ],
   "source": [
    "import os\n",
    "import json\n",
    "import pandas as pd\n",
    "\n",
    "# JSON 파일이 있는 디렉토리 경로\n",
    "json_directory = 'datasets/2~3sent'\n",
    "\n",
    "# CSV 파일 경로\n",
    "csv_file = 'summarize.csv'\n",
    "\n",
    "# 빈 리스트를 준비합니다.\n",
    "data = []\n",
    "\n",
    "# 디렉토리 내의 모든 파일을 읽습니다.\n",
    "for filename in os.listdir(json_directory):\n",
    "    if filename.endswith('.json'):\n",
    "        file_path = os.path.join(json_directory, filename)\n",
    "        with open(file_path, 'r', encoding='utf-8') as file:\n",
    "            json_data = json.load(file)\n",
    "            \n",
    "            # 필요한 데이터를 추출합니다.\n",
    "            doc_type = 'literature'\n",
    "            passage = json_data.get(\"Meta(Refine)\", {}).get(\"passage\", \"\")\n",
    "            summary1 = json_data.get(\"Annotation\", {}).get(\"summary1\", \"\")\n",
    "            \n",
    "            # 데이터를 리스트에 추가합니다.\n",
    "            data.append({\n",
    "                \"type\": doc_type,\n",
    "                \"passage\": passage,\n",
    "                \"summary1\": summary1\n",
    "            })\n",
    "\n",
    "# 데이터프레임으로 변환합니다.\n",
    "df = pd.DataFrame(data, columns=[\"type\", \"passage\", \"summary1\"])\n",
    "\n",
    "# CSV 파일로 저장합니다.\n",
    "df.to_csv(csv_file, index=False, encoding='utf-8-sig')\n",
    "\n",
    "print(f\"CSV 파일이 '{csv_file}'로 저장되었습니다.\")\n"
   ]
  },
  {
   "cell_type": "code",
   "execution_count": 2,
   "metadata": {},
   "outputs": [
    {
     "data": {
      "text/html": [
       "<div>\n",
       "<style scoped>\n",
       "    .dataframe tbody tr th:only-of-type {\n",
       "        vertical-align: middle;\n",
       "    }\n",
       "\n",
       "    .dataframe tbody tr th {\n",
       "        vertical-align: top;\n",
       "    }\n",
       "\n",
       "    .dataframe thead th {\n",
       "        text-align: right;\n",
       "    }\n",
       "</style>\n",
       "<table border=\"1\" class=\"dataframe\">\n",
       "  <thead>\n",
       "    <tr style=\"text-align: right;\">\n",
       "      <th></th>\n",
       "      <th>type</th>\n",
       "      <th>passage</th>\n",
       "      <th>summary1</th>\n",
       "    </tr>\n",
       "  </thead>\n",
       "  <tbody>\n",
       "    <tr>\n",
       "      <th>0</th>\n",
       "      <td>literature</td>\n",
       "      <td>그러던 것이 자기를 지성으로 대하는 학원의 정성에 감화되어 떠나지를 못하여 며칠을...</td>\n",
       "      <td>교원들이 인격자들이기 때문에 학원에 있었다는 미령이의 말은 10년 전 학원 교원들의...</td>\n",
       "    </tr>\n",
       "    <tr>\n",
       "      <th>1</th>\n",
       "      <td>literature</td>\n",
       "      <td>영애 어머니에게는 이런 딸의 타락이 좋게만 보여졌다. 그녀는 딸 덕에 전 도 일도 ...</td>\n",
       "      <td>흥청망청 탈 난 여편네들과 어울려 다니는 어머니를 둔 처지의 영애는 채영을 이해할 ...</td>\n",
       "    </tr>\n",
       "    <tr>\n",
       "      <th>2</th>\n",
       "      <td>literature</td>\n",
       "      <td>배뚱뚱이 신사─차라리 반으로 갈라 두 쪽의 사람을 만드는 편이 공평도 하려니와 개운...</td>\n",
       "      <td>사람은 수만 년 동안 생활을 정리하여 온 셈이나 그렇다면 오늘의 이 혼란과 불안과 ...</td>\n",
       "    </tr>\n",
       "    <tr>\n",
       "      <th>3</th>\n",
       "      <td>literature</td>\n",
       "      <td>그럼에도 불구하고 문제는 의연히 그대로 남아 있다. 다시 말하면 씨 등의 문학이 ...</td>\n",
       "      <td>작자 자신이 작중 인물의 혼란에 휩쓸려 들어가 감상주의로 또는 페시미즘으로 허둥지둥...</td>\n",
       "    </tr>\n",
       "    <tr>\n",
       "      <th>4</th>\n",
       "      <td>literature</td>\n",
       "      <td>해상(海上)의 쾌인(快人) 안용복(安龍福) 안용복(安龍福)은 숙종대왕(肅宗大王)때 ...</td>\n",
       "      <td>숙종 때 동래 출신인 안용복은 일개 군졸이었지만 말주변도 좋고 일본 말에 능통해 왜...</td>\n",
       "    </tr>\n",
       "    <tr>\n",
       "      <th>...</th>\n",
       "      <td>...</td>\n",
       "      <td>...</td>\n",
       "      <td>...</td>\n",
       "    </tr>\n",
       "    <tr>\n",
       "      <th>4795</th>\n",
       "      <td>literature</td>\n",
       "      <td>동무들이 골목 밖으로 뛰어나가는 것을 보면서 도로 책보 든 손을 내리는 연이는 팔...</td>\n",
       "      <td>연이는 동무들이 골목 밖으로 뛰어나가는 것을 보고도 안 해를 잃은 사람같이 머리를 ...</td>\n",
       "    </tr>\n",
       "    <tr>\n",
       "      <th>4796</th>\n",
       "      <td>literature</td>\n",
       "      <td>한 골짜기를 지나고 또 한 산등을 넘어서 이리 쫓고 저리 쫓아도 그 도야 지는 어찌...</td>\n",
       "      <td>사냥군이 건너편을 바라본즉 나무 틈으로 불빛이 비쳤고 매우 반가워하면서도 반신반의하...</td>\n",
       "    </tr>\n",
       "    <tr>\n",
       "      <th>4797</th>\n",
       "      <td>literature</td>\n",
       "      <td>마닐라의 젊은 여성(수필) 내가 1929년 06월 초순경에 상해에서 복단대학 학생 ...</td>\n",
       "      <td>중국청년회에 심어 놓은 밀정은 동리의 15세쯤 되는 아이에게 기타의 감시나 손님의 ...</td>\n",
       "    </tr>\n",
       "    <tr>\n",
       "      <th>4798</th>\n",
       "      <td>literature</td>\n",
       "      <td>춘자가 우르르 앞을 가로막았다. 눈과 눈이 마주친 채 한참 서 있었다. 춘자의 얼...</td>\n",
       "      <td>얼굴에는 분노가 가시면서 슬픔이 퍼져 오른 춘자는 나의 눈을 똑바로 보곤 부끄러서 ...</td>\n",
       "    </tr>\n",
       "    <tr>\n",
       "      <th>4799</th>\n",
       "      <td>literature</td>\n",
       "      <td>지금까지의 제작자들의 역량에 비하여 그 우열을 여기서 가릴 수는 없으나 앞으로 우...</td>\n",
       "      <td>대한민국 영화를 발전시키기 위해서 희망을 거머쥘 수많은 제작자가 요청되고 있다.</td>\n",
       "    </tr>\n",
       "  </tbody>\n",
       "</table>\n",
       "<p>4800 rows × 3 columns</p>\n",
       "</div>"
      ],
      "text/plain": [
       "            type                                            passage  \\\n",
       "0     literature   그러던 것이 자기를 지성으로 대하는 학원의 정성에 감화되어 떠나지를 못하여 며칠을...   \n",
       "1     literature  영애 어머니에게는 이런 딸의 타락이 좋게만 보여졌다. 그녀는 딸 덕에 전 도 일도 ...   \n",
       "2     literature  배뚱뚱이 신사─차라리 반으로 갈라 두 쪽의 사람을 만드는 편이 공평도 하려니와 개운...   \n",
       "3     literature   그럼에도 불구하고 문제는 의연히 그대로 남아 있다. 다시 말하면 씨 등의 문학이 ...   \n",
       "4     literature  해상(海上)의 쾌인(快人) 안용복(安龍福) 안용복(安龍福)은 숙종대왕(肅宗大王)때 ...   \n",
       "...          ...                                                ...   \n",
       "4795  literature   동무들이 골목 밖으로 뛰어나가는 것을 보면서 도로 책보 든 손을 내리는 연이는 팔...   \n",
       "4796  literature  한 골짜기를 지나고 또 한 산등을 넘어서 이리 쫓고 저리 쫓아도 그 도야 지는 어찌...   \n",
       "4797  literature  마닐라의 젊은 여성(수필) 내가 1929년 06월 초순경에 상해에서 복단대학 학생 ...   \n",
       "4798  literature   춘자가 우르르 앞을 가로막았다. 눈과 눈이 마주친 채 한참 서 있었다. 춘자의 얼...   \n",
       "4799  literature   지금까지의 제작자들의 역량에 비하여 그 우열을 여기서 가릴 수는 없으나 앞으로 우...   \n",
       "\n",
       "                                               summary1  \n",
       "0     교원들이 인격자들이기 때문에 학원에 있었다는 미령이의 말은 10년 전 학원 교원들의...  \n",
       "1     흥청망청 탈 난 여편네들과 어울려 다니는 어머니를 둔 처지의 영애는 채영을 이해할 ...  \n",
       "2     사람은 수만 년 동안 생활을 정리하여 온 셈이나 그렇다면 오늘의 이 혼란과 불안과 ...  \n",
       "3     작자 자신이 작중 인물의 혼란에 휩쓸려 들어가 감상주의로 또는 페시미즘으로 허둥지둥...  \n",
       "4     숙종 때 동래 출신인 안용복은 일개 군졸이었지만 말주변도 좋고 일본 말에 능통해 왜...  \n",
       "...                                                 ...  \n",
       "4795  연이는 동무들이 골목 밖으로 뛰어나가는 것을 보고도 안 해를 잃은 사람같이 머리를 ...  \n",
       "4796  사냥군이 건너편을 바라본즉 나무 틈으로 불빛이 비쳤고 매우 반가워하면서도 반신반의하...  \n",
       "4797  중국청년회에 심어 놓은 밀정은 동리의 15세쯤 되는 아이에게 기타의 감시나 손님의 ...  \n",
       "4798  얼굴에는 분노가 가시면서 슬픔이 퍼져 오른 춘자는 나의 눈을 똑바로 보곤 부끄러서 ...  \n",
       "4799       대한민국 영화를 발전시키기 위해서 희망을 거머쥘 수많은 제작자가 요청되고 있다.  \n",
       "\n",
       "[4800 rows x 3 columns]"
      ]
     },
     "execution_count": 2,
     "metadata": {},
     "output_type": "execute_result"
    }
   ],
   "source": [
    "df = pd.read_csv('datasets/summarize.csv')\n",
    "df"
   ]
  },
  {
   "cell_type": "code",
   "execution_count": 3,
   "metadata": {},
   "outputs": [
    {
     "name": "stderr",
     "output_type": "stream",
     "text": [
      "/usr/local/lib/python3.8/dist-packages/huggingface_hub/file_download.py:1150: FutureWarning: `resume_download` is deprecated and will be removed in version 1.0.0. Downloads always resume when possible. If you want to force a new download, use `force_download=True`.\n",
      "  warnings.warn(\n"
     ]
    },
    {
     "data": {
      "application/vnd.jupyter.widget-view+json": {
       "model_id": "2a7d5392e83441338795a5de2e4ac02c",
       "version_major": 2,
       "version_minor": 0
      },
      "text/plain": [
       "config.json:   0%|          | 0.00/1.18k [00:00<?, ?B/s]"
      ]
     },
     "metadata": {},
     "output_type": "display_data"
    },
    {
     "name": "stderr",
     "output_type": "stream",
     "text": [
      "You passed along `num_labels=3` with an incompatible id to label map: {'0': 'NEGATIVE', '1': 'POSITIVE'}. The number of labels wil be overwritten to 2.\n",
      "You passed along `num_labels=3` with an incompatible id to label map: {'0': 'NEGATIVE', '1': 'POSITIVE'}. The number of labels wil be overwritten to 2.\n",
      "/usr/local/lib/python3.8/dist-packages/huggingface_hub/file_download.py:1150: FutureWarning: `resume_download` is deprecated and will be removed in version 1.0.0. Downloads always resume when possible. If you want to force a new download, use `force_download=True`.\n",
      "  warnings.warn(\n"
     ]
    },
    {
     "data": {
      "application/vnd.jupyter.widget-view+json": {
       "model_id": "35ee668a99784a319820bcea1a7e1a7a",
       "version_major": 2,
       "version_minor": 0
      },
      "text/plain": [
       "model.safetensors:   0%|          | 0.00/496M [00:00<?, ?B/s]"
      ]
     },
     "metadata": {},
     "output_type": "display_data"
    },
    {
     "name": "stderr",
     "output_type": "stream",
     "text": [
      "You passed along `num_labels=3` with an incompatible id to label map: {'0': 'NEGATIVE', '1': 'POSITIVE'}. The number of labels wil be overwritten to 2.\n"
     ]
    },
    {
     "data": {
      "application/vnd.jupyter.widget-view+json": {
       "model_id": "e837566d670944e58c5a5af20e5f498f",
       "version_major": 2,
       "version_minor": 0
      },
      "text/plain": [
       "vocab.json:   0%|          | 0.00/446k [00:00<?, ?B/s]"
      ]
     },
     "metadata": {},
     "output_type": "display_data"
    },
    {
     "data": {
      "application/vnd.jupyter.widget-view+json": {
       "model_id": "c3bdaf92f7044074b775e476778f450f",
       "version_major": 2,
       "version_minor": 0
      },
      "text/plain": [
       "merges.txt:   0%|          | 0.00/177k [00:00<?, ?B/s]"
      ]
     },
     "metadata": {},
     "output_type": "display_data"
    },
    {
     "data": {
      "application/vnd.jupyter.widget-view+json": {
       "model_id": "640e7da04ed74a0ab23998bf5393ca61",
       "version_major": 2,
       "version_minor": 0
      },
      "text/plain": [
       "tokenizer.json:   0%|          | 0.00/682k [00:00<?, ?B/s]"
      ]
     },
     "metadata": {},
     "output_type": "display_data"
    },
    {
     "data": {
      "application/vnd.jupyter.widget-view+json": {
       "model_id": "640ddb94eba24570a5883e382e48df08",
       "version_major": 2,
       "version_minor": 0
      },
      "text/plain": [
       "added_tokens.json:   0%|          | 0.00/4.00 [00:00<?, ?B/s]"
      ]
     },
     "metadata": {},
     "output_type": "display_data"
    },
    {
     "data": {
      "application/vnd.jupyter.widget-view+json": {
       "model_id": "5775a4f5818c40fe98a9bf08c29f23c4",
       "version_major": 2,
       "version_minor": 0
      },
      "text/plain": [
       "special_tokens_map.json:   0%|          | 0.00/111 [00:00<?, ?B/s]"
      ]
     },
     "metadata": {},
     "output_type": "display_data"
    },
    {
     "name": "stderr",
     "output_type": "stream",
     "text": [
      "You passed along `num_labels=3` with an incompatible id to label map: {'0': 'NEGATIVE', '1': 'POSITIVE'}. The number of labels wil be overwritten to 2.\n"
     ]
    }
   ],
   "source": [
    "# Use a pipeline as a high-level helper\n",
    "from transformers import pipeline\n",
    "\n",
    "pipe = pipeline(\"text2text-generation\", model=\"gogamza/kobart-summarization\")"
   ]
  },
  {
   "cell_type": "code",
   "execution_count": 4,
   "metadata": {},
   "outputs": [
    {
     "name": "stdout",
     "output_type": "stream",
     "text": [
      "Original Text:  \n",
      "오늘은 정말 특별한 날이었다! 아침에 일어나자마자 창문을 열었는데, 날씨가 너무 맑아서 기분이 좋았다. 출근길에 만난 길고양이가 내게 다가와서 머리를 비벼댔다. 회사에서는 오랫동안 준비했던 프로젝트가 성공적으로 마무리되어 팀원들과 기쁨을 나눴다. 퇴근 후에는 가족들과 저녁 식사를 함께 했는데, 모두 웃음이 끊이지 않았다. 이런 행복한 날이 더 많았으면 좋겠다. 오늘 하루는 정말 기쁜 기억으로 남을 것 같다.\n",
      "\n",
      "Summary:  아침에 일어나 일어나자마자 창문을 열었는데, 날씨가 너무 맑아서 기분이 좋았다. 출근길에\n"
     ]
    }
   ],
   "source": [
    "# 요약할 텍스트 예시\n",
    "text = \"\"\"\n",
    "오늘은 정말 특별한 날이었다! 아침에 일어나자마자 창문을 열었는데, 날씨가 너무 맑아서 기분이 좋았다. 출근길에 만난 길고양이가 내게 다가와서 머리를 비벼댔다. 회사에서는 오랫동안 준비했던 프로젝트가 성공적으로 마무리되어 팀원들과 기쁨을 나눴다. 퇴근 후에는 가족들과 저녁 식사를 함께 했는데, 모두 웃음이 끊이지 않았다. 이런 행복한 날이 더 많았으면 좋겠다. 오늘 하루는 정말 기쁜 기억으로 남을 것 같다.\n",
    "\"\"\"\n",
    "\n",
    "# 요약 수행\n",
    "summary = pipe(text)\n",
    "\n",
    "# 요약 결과 출력\n",
    "print(\"Original Text: \", text)\n",
    "print(\"Summary: \", summary[0]['generated_text'])"
   ]
  },
  {
   "cell_type": "code",
   "execution_count": 15,
   "metadata": {},
   "outputs": [
    {
     "name": "stderr",
     "output_type": "stream",
     "text": [
      "You passed along `num_labels=3` with an incompatible id to label map: {'0': 'NEGATIVE', '1': 'POSITIVE'}. The number of labels wil be overwritten to 2.\n"
     ]
    },
    {
     "data": {
      "text/plain": [
       "'출근길에 지하철이 갑자기 멈춰서 잠시 갇혀 있었는데, 그때부터 계속 신경이 곤두섰고 회사에서 중요한 발표를 앞두고 있어서 더 긴장됐다.'"
      ]
     },
     "execution_count": 15,
     "metadata": {},
     "output_type": "execute_result"
    }
   ],
   "source": [
    "import torch\n",
    "from transformers import PreTrainedTokenizerFast\n",
    "from transformers import BartForConditionalGeneration\n",
    "\n",
    "tokenizer = PreTrainedTokenizerFast.from_pretrained('digit82/kobart-summarization')\n",
    "model = BartForConditionalGeneration.from_pretrained('digit82/kobart-summarization')\n",
    "\n",
    "text1 = \"\"\"\n",
    "1일 오후 9시까지 최소 20만3220명이 코로나19에 신규 확진됐다. 또다시 동시간대 최다 기록으로, 사상 처음 20만명대에 진입했다.\n",
    "방역 당국과 서울시 등 각 지방자치단체에 따르면 이날 0시부터 오후 9시까지 전국 신규 확진자는 총 20만3220명으로 집계됐다.\n",
    "국내 신규 확진자 수가 20만명대를 넘어선 것은 이번이 처음이다.\n",
    "동시간대 최다 기록은 지난 23일 오후 9시 기준 16만1389명이었는데, 이를 무려 4만1831명이나 웃돌았다. 전날 같은 시간 기록한 13만3481명보다도 6만9739명 많다.\n",
    "확진자 폭증은 3시간 전인 오후 6시 집계에서도 예견됐다.\n",
    "오후 6시까지 최소 17만8603명이 신규 확진돼 동시간대 최다 기록(24일 13만8419명)을 갈아치운 데 이어 이미 직전 0시 기준 역대 최다 기록도 넘어섰다. 역대 최다 기록은 지난 23일 0시 기준 17만1451명이었다.\n",
    "17개 지자체별로 보면 서울 4만6938명, 경기 6만7322명, 인천 1만985명 등 수도권이 12만5245명으로 전체의 61.6%를 차지했다. 서울과 경기는 모두 동시간대 기준 최다로, 처음으로 각각 4만명과 6만명을 넘어섰다.\n",
    "비수도권에서는 7만7975명(38.3%)이 발생했다. 제주를 제외한 나머지 지역에서 모두 동시간대 최다를 새로 썼다.\n",
    "부산 1만890명, 경남 9909명, 대구 6900명, 경북 6977명, 충남 5900명, 대전 5292명, 전북 5150명, 울산 5141명, 광주 5130명, 전남 4996명, 강원 4932명, 충북 3845명, 제주 1513명, 세종 1400명이다.\n",
    "집계를 마감하는 자정까지 시간이 남아있는 만큼 2일 0시 기준으로 발표될 신규 확진자 수는 이보다 더 늘어날 수 있다. 이에 따라 최종 집계되는 확진자 수는 21만명 안팎을 기록할 수 있을 전망이다.\n",
    "한편 전날 하루 선별진료소에서 이뤄진 검사는 70만8763건으로 검사 양성률은 40.5%다. 양성률이 40%를 넘은 것은 이번이 처음이다. 확산세가 계속 거세질 수 있다는 얘기다.\n",
    "이날 0시 기준 신규 확진자는 13만8993명이었다. 이틀 연속 13만명대를 이어갔다.\n",
    "\"\"\"\n",
    "\n",
    "text2 = \"\"\"오늘 아침부터 이상하게 마음이 불안했다. 출근길에 지하철이 갑자기 멈춰서 잠시 갇혀 있었는데, 그때부터 계속 신경이 곤두섰다. 회사에서 중요한 발표를 앞두고 있어서 더 긴장됐다. 발표 도중 목소리가 떨리고 말도 더듬었다. 동료들이 괜찮다고 했지만 계속 마음이 편치 않았다. 집에 돌아와서도 그 불안감이 사라지지 않아 잠을 이루기 힘들었다.\"\"\"\n",
    "\n",
    "text = text2.replace('\\n', ' ')\n",
    "\n",
    "raw_input_ids = tokenizer.encode(text)\n",
    "input_ids = [tokenizer.bos_token_id] + raw_input_ids + [tokenizer.eos_token_id]\n",
    "\n",
    "summary_ids = model.generate(torch.tensor([input_ids]),  num_beams=4,  max_length=512,  eos_token_id=1)\n",
    "output = tokenizer.decode(summary_ids.squeeze().tolist(), skip_special_tokens=True)\n",
    "\n",
    "output"
   ]
  }
 ],
 "metadata": {
  "kernelspec": {
   "display_name": "NLP",
   "language": "python",
   "name": "myenv"
  },
  "language_info": {
   "codemirror_mode": {
    "name": "ipython",
    "version": 3
   },
   "file_extension": ".py",
   "mimetype": "text/x-python",
   "name": "python",
   "nbconvert_exporter": "python",
   "pygments_lexer": "ipython3",
   "version": "3.8.10"
  },
  "orig_nbformat": 4
 },
 "nbformat": 4,
 "nbformat_minor": 2
}
